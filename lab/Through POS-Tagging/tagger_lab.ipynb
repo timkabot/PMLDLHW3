{
 "cells": [
  {
   "cell_type": "markdown",
   "metadata": {
    "collapsed": true
   },
   "source": [
    "**POS-Tagging**\n",
    "\n",
    "Welcome to the third lab! In this excercise you will build a simple pos-tagger.\n",
    "The excercise is inspired from Pytorch tutorial site: https://pytorch.org/tutorials/beginner/nlp/sequence_models_tutorial.html"
   ]
  },
  {
   "cell_type": "code",
   "execution_count": 1,
   "metadata": {},
   "outputs": [
    {
     "name": "stdout",
     "output_type": "stream",
     "text": [
      "Requirement already satisfied: pandas in d:\\soft\\installed\\anaconda\\envs\\pytorch\\lib\\site-packages (1.0.1)\n",
      "Requirement already satisfied: python-dateutil>=2.6.1 in d:\\soft\\installed\\anaconda\\envs\\pytorch\\lib\\site-packages (from pandas) (2.8.1)\n",
      "Requirement already satisfied: numpy>=1.13.3 in d:\\soft\\installed\\anaconda\\envs\\pytorch\\lib\\site-packages (from pandas) (1.18.1)\n",
      "Requirement already satisfied: pytz>=2017.2 in d:\\soft\\installed\\anaconda\\envs\\pytorch\\lib\\site-packages (from pandas) (2019.3)\n",
      "Requirement already satisfied: six>=1.5 in d:\\soft\\installed\\anaconda\\envs\\pytorch\\lib\\site-packages (from python-dateutil>=2.6.1->pandas) (1.14.0)\n"
     ]
    }
   ],
   "source": [
    "!pip install pandas"
   ]
  },
  {
   "cell_type": "code",
   "execution_count": 2,
   "metadata": {},
   "outputs": [
    {
     "data": {
      "text/plain": [
       "<torch._C.Generator at 0x20354d31510>"
      ]
     },
     "execution_count": 2,
     "metadata": {},
     "output_type": "execute_result"
    }
   ],
   "source": [
    "import torch\n",
    "import torch.nn as nn\n",
    "import torch.nn.functional as F\n",
    "import torch.optim as optim\n",
    "\n",
    "torch.manual_seed(1)"
   ]
  },
  {
   "cell_type": "code",
   "execution_count": 3,
   "metadata": {},
   "outputs": [
    {
     "name": "stdout",
     "output_type": "stream",
     "text": [
      "tensor([[[-0.0187,  0.1713, -0.2944]],\n",
      "\n",
      "        [[-0.3521,  0.1026, -0.2971]],\n",
      "\n",
      "        [[-0.3191,  0.0781, -0.1957]],\n",
      "\n",
      "        [[-0.1634,  0.0941, -0.1637]],\n",
      "\n",
      "        [[-0.3368,  0.0959, -0.0538]]], grad_fn=<StackBackward>)\n",
      "(tensor([[[-0.3368,  0.0959, -0.0538]]], grad_fn=<StackBackward>), tensor([[[-0.9825,  0.4715, -0.0633]]], grad_fn=<StackBackward>))\n"
     ]
    }
   ],
   "source": [
    "lstm = nn.LSTM(3, 3)  # Input dim is 3, output dim is 3\n",
    "inputs = [torch.randn(1, 3) for _ in range(5)]  # make a sequence of length 5\n",
    "\n",
    "# initialize the hidden state.\n",
    "hidden = (torch.randn(1, 1, 3),\n",
    "          torch.randn(1, 1, 3))\n",
    "for i in inputs:\n",
    "    # Step through the sequence one element at a time.\n",
    "    # after each step, hidden contains the hidden state.\n",
    "    out, hidden = lstm(i.view(1, 1, -1), hidden)\n",
    "\n",
    "# alternatively, we can do the entire sequence all at once.\n",
    "# the first value returned by LSTM is all of the hidden states throughout\n",
    "# the sequence. the second is just the most recent hidden state\n",
    "# (compare the last slice of \"out\" with \"hidden\" below, they are the same)\n",
    "# The reason for this is that:\n",
    "# \"out\" will give you access to all hidden states in the sequence\n",
    "# \"hidden\" will allow you to continue the sequence and backpropagate,\n",
    "# by passing it as an argument  to the lstm at a later time\n",
    "# Add the extra 2nd dimension\n",
    "inputs = torch.cat(inputs).view(len(inputs), 1, -1)\n",
    "hidden = (torch.randn(1, 1, 3), torch.randn(1, 1, 3))  # clean out hidden state\n",
    "out, hidden = lstm(inputs, hidden)\n",
    "print(out)\n",
    "print(hidden)\n",
    "\n",
    "\n"
   ]
  },
  {
   "cell_type": "markdown",
   "metadata": {},
   "source": [
    "**Task:**\n",
    "\n",
    "Load the `training_data` from `corpus-small.train`, and modify the `tag_to_ix` dictionary to have all different tags.\n",
    "Build `ix_to_tag` dictionay, you will need it at the last task. "
   ]
  },
  {
   "cell_type": "code",
   "execution_count": 13,
   "metadata": {},
   "outputs": [
    {
     "name": "stdout",
     "output_type": "stream",
     "text": [
      "['In', 'IN', 'an', 'DT', 'Oct.', 'NNP', '19', 'CD', 'review', 'NN', 'of', 'IN', '``', '``', 'The', 'DT', 'Misanthrope', 'NN', \"''\", \"''\", 'at', 'IN', 'Chicago', 'NNP', \"'s\", 'POS', 'Goodman', 'NNP', 'Theatre', 'NNP', '(', '-LRB-', '``', '``', 'Revitalized', 'VBN', 'Classics', 'NNS', 'Take', 'VBP', 'the', 'DT', 'Stage', 'NN', 'in', 'IN', 'Windy', 'NNP', 'City', 'NNP', '', '', '', '', \"''\", \"''\", 'Leisure', 'NN', '&', 'CC', 'Arts', 'NNS', ')', '-RRB-', '', '', '', '', 'the', 'DT', 'role', 'NN', 'of', 'IN', 'Celimene', 'NNP', '', '', '', '', 'played', 'VBN', 'by', 'IN', 'Kim', 'NNP', 'Cattrall', 'NNP', '', '', '', '', 'was', 'VBD', 'mistakenly', 'RB', 'attributed', 'VBN', 'to', 'TO', 'Christina', 'NNP', 'Haag', 'NNP', '']\n",
      "['', 'Ms.', 'NNP', 'Haag', 'NNP', 'plays', 'VBZ', 'Elianti', 'NNP', '']\n",
      "['', 'Rolls-Royce', 'NNP', 'Motor', 'NNP', 'Cars', 'NNPS', 'Inc.', 'NNP', 'said', 'VBD', 'it', 'PRP', 'expects', 'VBZ', 'its', 'PRP$', 'U.S.', 'NNP', 'sales', 'NNS', 'to', 'TO', 'remain', 'VB', 'steady', 'JJ', 'at', 'IN', 'about', 'IN', '1', '200', 'CD', 'cars', 'NNS', 'in', 'IN', '1990', 'CD', '']\n",
      "['', 'The', 'DT', 'luxury', 'NN', 'auto', 'NN', 'maker', 'NN', 'last', 'JJ', 'year', 'NN', 'sold', 'VBD', '1', '214', 'CD', 'cars', 'NNS', 'in', 'IN', 'the', 'DT', 'U.S.', 'NNP', 'Howard', 'NNP', 'Mosher', 'NNP', '', '', '', '', 'president', 'NN', 'and', 'CC', 'chief', 'JJ', 'executive', 'NN', 'officer', 'NN', '', '', '', '', 'said', 'VBD', 'he', 'PRP', 'anticipates', 'VBZ', 'growth', 'NN', 'for', 'IN', 'the', 'DT', 'luxury', 'NN', 'auto', 'NN', 'maker', 'NN', 'in', 'IN', 'Britain', 'NNP', 'and', 'CC', 'Europe', 'NNP', '', '', '', '', 'and', 'CC', 'in', 'IN', 'Far', 'JJ', 'Eastern', 'JJ', 'markets', 'NNS', '']\n",
      "['', 'BELL', 'NNP', 'INDUSTRIES', 'NNP', 'Inc.', 'NNP', 'increased', 'VBD', 'its', 'PRP$', 'quarterly', 'NN', 'to', 'TO', '10', 'CD', 'cents', 'NNS', 'from', 'IN', 'seven', 'CD', 'cents', 'NNS', 'a', 'DT', 'share', 'NN', '']\n",
      "['', 'The', 'DT', 'new', 'JJ', 'rate', 'NN', 'will', 'MD', 'be', 'VB', 'payable', 'JJ', 'Feb.', 'NNP', '15', 'CD', '']\n",
      "['', 'A', 'DT', 'record', 'NN', 'date', 'NN', 'has', 'VBZ', \"n't\", 'RB', 'been', 'VBN', 'set', 'VBN', '']\n",
      "['', 'Bell', 'NNP', '', '', '', '', 'based', 'VBN', 'in', 'IN', 'Los', 'NNP', 'Angeles', 'NNP', '', '', '', '', 'makes', 'VBZ', 'and', 'CC', 'distributes', 'VBZ', 'electronic', 'JJ', '', '', '', '', 'computer', 'NN', 'and', 'CC', 'building', 'NN', 'products', 'NNS', '']\n",
      "['', 'Investors', 'NNS', 'are', 'VBP', 'appealing', 'VBG', 'to', 'TO', 'the', 'DT', 'Securities', 'NNPS', 'and', 'CC', 'Exchange', 'NNP', 'Commission', 'NNP', 'not', 'RB', 'to', 'TO', 'limit', 'VB', 'their', 'PRP$', 'access', 'NN', 'to', 'TO', 'information', 'NN', 'about', 'IN', 'stock', 'NN', 'purchases', 'NNS', 'and', 'CC', 'sales', 'NNS', 'by', 'IN', 'corporate', 'JJ', 'insiders', 'NNS', '']\n",
      "['', 'A', 'DT', 'SEC', 'NNP', 'proposal', 'NN', 'to', 'TO', 'ease', 'VB', 'reporting', 'NN', 'requirements', 'NNS', 'for', 'IN', 'some', 'DT', 'company', 'NN', 'executives', 'NNS', 'would', 'MD', 'undermine', 'VB', 'the', 'DT', 'usefulness', 'NN', 'of', 'IN', 'information', 'NN', 'on', 'IN', 'insider', 'NN', 'trades', 'NNS', 'as', 'IN', 'a', 'DT', 'stock-picking', 'JJ', 'tool', 'NN', '', '', '', '', 'individual', 'JJ', 'investors', 'NNS', 'and', 'CC', 'professional', 'JJ', 'money', 'NN', 'managers', 'NNS', 'contend', 'VBP', '']\n",
      "['', 'They', 'PRP', 'make', 'VBP', 'the', 'DT', 'argument', 'NN', 'in', 'IN', 'letters', 'NNS', 'to', 'TO', 'the', 'DT', 'agency', 'NN', 'about', 'IN', 'rule', 'NN', 'changes', 'NNS', 'proposed', 'VBD', 'this', 'DT', 'past', 'JJ', 'summer', 'NN', 'that', 'IN', '', '', '', '', 'among', 'IN', 'other', 'JJ', 'things', 'NNS', '', '', '', '', 'would', 'MD', 'exempt', 'VB', 'many', 'JJ', 'middle-management', 'JJ', 'executives', 'NNS', 'from', 'IN', 'reporting', 'VBG', 'trades', 'NNS', 'in', 'IN', 'their', 'PRP$', 'own', 'JJ', 'companies', 'NNS', \"'\", 'POS', 'shares', 'NNS', '']\n",
      "['', 'The', 'DT', 'proposed', 'VBN', 'changes', 'NNS', 'also', 'RB', 'would', 'MD', 'allow', 'VB', 'executives', 'NNS', 'to', 'TO', 'report', 'VB', 'exercises', 'NNS', 'of', 'IN', 'options', 'NNS', 'later', 'RBR', 'and', 'CC', 'less', 'RBR', 'often', 'RB', '']\n",
      "['', 'Many', 'JJ', 'of', 'IN', 'the', 'DT', 'letters', 'NNS', 'maintain', 'VBP', 'that', 'IN', 'investor', 'NN', 'confidence', 'NN', 'has', 'VBZ', 'been', 'VBN', 'so', 'RB', 'shaken', 'VBN', 'by', 'IN', 'the', 'DT', '1987', 'CD', 'stock', 'NN', 'market', 'NN', 'crash', 'NN', '--', ':', 'and', 'CC', 'the', 'DT', 'markets', 'NNS', 'already', 'RB', 'so', 'RB', 'stacked', 'VBN', 'against', 'IN', 'the', 'DT', 'little', 'JJ', 'guy', 'NN', '--', ':', 'that', 'IN', 'any', 'DT', 'decrease', 'NN', 'in', 'IN', 'information', 'NN', 'on', 'IN', 'insider-trading', 'NN', 'patterns', 'NNS', 'might', 'MD', 'prompt', 'VB', 'individuals', 'NNS', 'to', 'TO', 'get', 'VB', 'out', 'RB', 'of', 'IN', 'stocks', 'NNS', 'altogether', 'RB', '']\n",
      "['', '``', '``', 'The', 'DT', 'SEC', 'NNP', 'has', 'VBZ', 'historically', 'RB', 'paid', 'VBN', 'obeisance', 'NN', 'to', 'TO', 'the', 'DT', 'ideal', 'NN', 'of', 'IN', 'a', 'DT', 'level', 'JJ', 'playing', 'NN', 'field', 'NN', '', '', '', '', \"''\", \"''\", 'wrote', 'VBD', 'Clyde', 'NNP', 'S.', 'NNP', 'McGregor', 'NNP', 'of', 'IN', 'Winnetka', 'NNP', '', '', '', '', 'Ill.', 'NNP', '', '', '', '', 'in', 'IN', 'one', 'CD', 'of', 'IN', 'the', 'DT', '92', 'CD', 'letters', 'NNS', 'the', 'DT', 'agency', 'NN', 'has', 'VBZ', 'received', 'VBN', 'since', 'IN', 'the', 'DT', 'changes', 'NNS', 'were', 'VBD', 'proposed', 'VBN', 'Aug.', 'NNP', '17', 'CD', '']\n",
      "['', '``', '``', 'Apparently', 'RB', 'the', 'DT', 'commission', 'NN', 'did', 'VBD', 'not', 'RB', 'really', 'RB', 'believe', 'VB', 'in', 'IN', 'this', 'DT', 'ideal', 'NN', '']\n",
      "['', \"''\", \"''\", 'Currently', 'RB', '', '', '', '', 'the', 'DT', 'rules', 'NNS', 'force', 'VBP', 'executives', 'NNS', '', '', '', '', 'directors', 'NNS', 'and', 'CC', 'other', 'JJ', 'corporate', 'JJ', 'insiders', 'NNS', 'to', 'TO', 'report', 'VB', 'purchases', 'NNS', 'and', 'CC', 'sales', 'NNS', 'of', 'IN', 'their', 'PRP$', 'companies', 'NNS', \"'\", 'POS', 'shares', 'NNS', 'within', 'IN', 'about', 'IN', 'a', 'DT', 'month', 'NN', 'after', 'IN', 'the', 'DT', 'transaction', 'NN', '']\n",
      "['', 'But', 'CC', 'about', 'IN', '25', 'CD', '%', 'NN', 'of', 'IN', 'the', 'DT', 'insiders', 'NNS', '', '', '', '', 'according', 'VBG', 'to', 'TO', 'SEC', 'NNP', 'figures', 'NNS', '', '', '', '', 'file', 'VBP', 'their', 'PRP$', 'reports', 'NNS', 'late', 'RB', '']\n",
      "['', 'The', 'DT', 'changes', 'NNS', 'were', 'VBD', 'proposed', 'VBN', 'in', 'IN', 'an', 'DT', 'effort', 'NN', 'to', 'TO', 'streamline', 'VB', 'federal', 'JJ', 'bureaucracy', 'NN', 'and', 'CC', 'boost', 'VB', 'compliance', 'NN', 'by', 'IN', 'the', 'DT', 'executives', 'NNS', '``', '``', 'who', 'WP', 'are', 'VBP', 'really', 'RB', 'calling', 'VBG', 'the', 'DT', 'shots', 'NNS', '', '', '', '', \"''\", \"''\", 'said', 'VBD', 'Brian', 'NNP', 'Lane', 'NNP', '', '', '', '', 'special', 'JJ', 'counsel', 'NN', 'at', 'IN', 'the', 'DT', 'SEC', 'NNP', \"'s\", 'POS', 'office', 'NN', 'of', 'IN', 'disclosure', 'NN', 'policy', 'NN', '', '', '', '', 'which', 'WDT', 'proposed', 'VBD', 'the', 'DT', 'changes', 'NNS', '']\n",
      "['', 'Investors', 'NNS', '', '', '', '', 'money', 'NN', 'managers', 'NNS', 'and', 'CC', 'corporate', 'JJ', 'officials', 'NNS', 'had', 'VBD', 'until', 'IN', 'today', 'NN', 'to', 'TO', 'comment', 'VB', 'on', 'IN', 'the', 'DT', 'proposals', 'NNS', '', '', '', '', 'and', 'CC', 'the', 'DT', 'issue', 'NN', 'has', 'VBZ', 'produced', 'VBN', 'more', 'JJR', 'mail', 'NN', 'than', 'IN', 'almost', 'RB', 'any', 'DT', 'other', 'JJ', 'issue', 'NN', 'in', 'IN', 'memory', 'NN', '', '', '', '', 'Mr.', 'NNP', 'Lane', 'NNP', 'said', 'VBD', '']\n",
      "['', 'The', 'DT', 'SEC', 'NNP', 'will', 'MD', 'probably', 'RB', 'vote', 'VB', 'on', 'IN', 'the', 'DT', 'proposal', 'NN', 'early', 'RB', 'next', 'JJ', 'year', 'NN', '', '', '', '', 'he', 'PRP', 'said', 'VBD', '']\n",
      "['', 'Not', 'RB', 'all', 'PDT', 'those', 'DT', 'who', 'WP', 'wrote', 'VBD', 'oppose', 'VBP', 'the', 'DT', 'changes', 'NNS', '']\n",
      "['', 'The', 'DT', 'Committee', 'NNP', 'on', 'IN', 'Federal', 'NNP', 'Regulation', 'NNP', 'of', 'IN', 'Securities', 'NNPS', 'for', 'IN', 'the', 'DT', 'American', 'NNP', 'Bar', 'NNP', 'Association', 'NNP', 'argues', 'VBZ', '', '', '', '', 'for', 'IN', 'example', 'NN', '', '', '', '', 'in', 'IN', 'its', 'PRP$', 'lengthy', 'JJ', 'letter', 'NN', 'to', 'TO', 'the', 'DT', 'SEC', 'NNP', '', '', '', '', 'that', 'IN', 'the', 'DT', 'proposed', 'VBN', 'changes', 'NNS', '``', '``', 'would', 'MD', 'substantially', 'RB', 'improve', 'VB', 'the', 'DT', '{', '-LRB-', 'law', 'NN', '}', '-RRB-', 'by', 'IN', 'conforming', 'VBG', 'it', 'PRP', 'more', 'RBR', 'closely', 'RB', 'to', 'TO', 'contemporary', 'JJ', 'business', 'NN', 'realities', 'NNS', '']\n",
      "['', \"''\", \"''\", 'What', 'WP', 'the', 'DT', 'investors', 'NNS', 'who', 'WP', 'oppose', 'VBP', 'the', 'DT', 'proposed', 'VBN', 'changes', 'NNS', 'object', 'VBP', 'to', 'TO', 'most', 'RBS', 'is', 'VBZ', 'the', 'DT', 'effect', 'NN', 'they', 'PRP', 'say', 'VBP', 'the', 'DT', 'proposal', 'NN', 'would', 'MD', 'have', 'VB', 'on', 'IN', 'their', 'PRP$', 'ability', 'NN', 'to', 'TO', 'spot', 'VB', 'telltale', 'JJ', '``', '``', 'clusters', 'NNS', \"''\", \"''\", 'of', 'IN', 'trading', 'NN', 'activity', 'NN', '--', ':', 'buying', 'NN', 'or', 'CC', 'selling', 'NN', 'by', 'IN', 'more', 'JJR', 'than', 'IN', 'one', 'CD', 'officer', 'NN', 'or', 'CC', 'director', 'NN', 'within', 'IN', 'a', 'DT', 'short', 'JJ', 'period', 'NN', 'of', 'IN', 'time', 'NN', '']\n",
      "['', 'According', 'VBG', 'to', 'TO', 'some', 'DT', 'estimates', 'NNS', '', '', '', '', 'the', 'DT', 'rule', 'NN', 'changes', 'NNS', 'would', 'MD', 'cut', 'VB', 'insider', 'NN', 'filings', 'NNS', 'by', 'IN', 'more', 'JJR', 'than', 'IN', 'a', 'DT', 'third', 'NN', '']\n",
      "['', 'The', 'DT', 'SEC', 'NNP', \"'s\", 'POS', 'Mr.', 'NNP', 'Lane', 'NNP', 'vehemently', 'RB', 'disputed', 'VBD', 'those', 'DT', 'estimates', 'NNS', '']\n",
      "['', 'The', 'DT', 'rules', 'NNS', 'will', 'MD', 'eliminate', 'VB', 'filings', 'NNS', 'policy-making', 'VBG', 'divisions', 'NNS', '', '', '', '', 'such', 'JJ', 'as', 'IN', 'sales', 'NNS', '', '', '', '', 'marketing', 'NN', '', '', '', '', 'finance', 'NN', 'and', 'CC', 'research', 'NN', 'and', 'CC', 'development', 'NN', '', '', '', '', 'Mr.', 'NNP', 'Lane', 'NNP', 'said', 'VBD', '']\n",
      "['', 'The', 'DT', 'proposed', 'VBN', 'rules', 'NNS', 'also', 'RB', 'would', 'MD', 'be', 'VB', 'tougher', 'JJR', 'on', 'IN', 'the', 'DT', 'insiders', 'NNS', 'still', 'RB', 'required', 'JJ', 'to', 'TO', 'file', 'VB', 'reports', 'NNS', '', '', '', '', 'he', 'PRP', 'said', 'VBD', '']\n",
      "['', 'Companies', 'NNS', 'would', 'MD', 'be', 'VB', 'compelled', 'VBN', 'to', 'TO', 'publish', 'VB', 'in', 'IN', 'annual', 'JJ', 'proxy', 'NN', 'statements', 'NNS', 'the', 'DT', 'names', 'NNS', 'of', 'IN', 'insiders', 'NNS', 'who', 'WP', 'fail', 'VBP', 'to', 'TO', 'file', 'VB', 'reports', 'NNS', 'on', 'IN', 'time', 'NN', '']\n",
      "['', 'Considered', 'VBN', 'as', 'IN', 'a', 'DT', 'whole', 'NN', '', '', '', '', 'Mr.', 'NNP', 'Lane', 'NNP', 'said', 'VBD', '', '', '', '', 'the', 'DT', 'filings', 'NNS', 'required', 'VBN', 'under', 'IN', 'the', 'DT', 'proposed', 'VBN', 'rules', 'NNS', '``', '``', 'will', 'MD', 'be', 'VB', 'at', 'IN', 'least', 'RBS', 'as', 'IN', 'effective', 'JJ', '', '', '', '', 'if', 'IN', 'not', 'RB', 'more', 'RBR', 'so', 'RB', '', '', '', '', 'for', 'IN', 'investors', 'NNS', 'following', 'VBG', 'transactions', 'NNS', '']\n",
      "['', \"''\", \"''\", 'But', 'CC', 'Robert', 'NNP', 'Gabele', 'NNP', '', '', '', '', 'president', 'NN', 'of', 'IN', 'Invest', 'Net', 'NNP', '', '', '', '', 'a', 'DT', 'North', 'NNP', 'Miami', 'NNP', '', '', '', '', 'Fla.', 'NNP', '', '', '', '', 'company', 'NN', 'that', 'WDT', 'packages', 'VBZ', 'and', 'CC', 'sells', 'VBZ', 'the', 'DT', 'insider-trading', 'NN', 'data', 'NNS', '', '', '', '', 'said', 'VBD', 'the', 'DT', 'proposal', 'NN', 'is', 'VBZ', 'worded', 'VBN', 'so', 'RB', 'vaguely', 'RB', 'that', 'IN', 'key', 'JJ', 'officials', 'NNS', 'may', 'MD', 'fail', 'VB', 'to', 'TO', 'file', 'VB', 'the', 'DT', 'reports', 'NNS', '']\n",
      "['', 'Many', 'JJ', 'investors', 'NNS', 'wrote', 'VBD', 'asking', 'VBG', 'the', 'DT', 'SEC', 'NNP', 'to', 'TO', 'require', 'VB', 'insiders', 'NNS', 'to', 'TO', 'report', 'VB', 'their', 'PRP$', 'purchases', 'NNS', 'and', 'CC', 'sales', 'NNS', 'immediately', 'RB', '', '', '', '', 'not', 'RB', 'a', 'DT', 'month', 'NN', 'later', 'RB', '']\n",
      "['', 'But', 'CC', 'Mr.', 'NNP', 'Lane', 'NNP', 'said', 'VBD', 'that', 'IN', 'while', 'IN', 'the', 'DT', 'SEC', 'NNP', 'regulates', 'VBZ', 'who', 'WP', 'files', 'VBZ', '', '', '', '', 'the', 'DT', 'law', 'NN', 'tells', 'VBZ', 'them', 'PRP', 'when', 'WRB', 'to', 'TO', 'do', 'VB', 'so', 'RB', '']\n",
      "['', 'Investors', 'NNS', 'who', 'WP', 'want', 'VBP', 'to', 'TO', 'change', 'VB', 'the', 'DT', 'required', 'JJ', 'timing', 'NN', 'should', 'MD', 'write', 'VB', 'their', 'PRP$', 'representatives', 'NNS', 'in', 'IN', 'Congress', 'NNP', '', '', '', '', 'he', 'PRP', 'added', 'VBD', '']\n",
      "['', 'The', 'DT', 'SEC', 'NNP', 'would', 'MD', 'likely', 'RB', 'be', 'VB', 'amenable', 'JJ', 'to', 'TO', 'legislation', 'NN', 'that', 'WDT', 'required', 'VBD', 'insiders', 'NNS', 'to', 'TO', 'file', 'VB', 'transactions', 'NNS', 'on', 'IN', 'a', 'DT', 'more', 'RBR', 'timely', 'JJ', 'basis', 'NN', '', '', '', '', 'he', 'PRP', 'said', 'VBD', '']\n",
      "['', 'The', 'DT', 'nation', 'NN', \"'s\", 'POS', 'largest', 'JJS', 'pension', 'NN', 'fund', 'NN', '', '', '', '', 'which', 'WDT', 'oversees', 'VBZ', '$', '$', '80', 'CD', 'billion', 'CD', 'for', 'IN', 'college', 'NN', 'employees', 'NNS', '', '', '', '', 'plans', 'VBZ', 'to', 'TO', 'offer', 'VB', 'two', 'CD', 'new', 'JJ', 'investment', 'NN', 'options', 'NNS', 'to', 'TO', 'its', 'PRP$', '1.2', 'CD', 'million', 'CD', 'participants', 'NNS', '']\n",
      "['', 'The', 'DT', 'Teachers', 'NNPS', 'Insurance', 'NNP', 'and', 'CC', 'Annuity', 'NNP', 'Association-College', 'NNP', 'Retirement', 'NNP', 'Equities', 'NNPS', 'Fund', 'NNP', 'said', 'VBD', 'it', 'PRP', 'will', 'MD', 'introduce', 'VB', 'a', 'DT', 'stock', 'NN', 'and', 'CC', 'bond', 'NN', 'fund', 'NN', 'that', 'WDT', 'will', 'MD', 'invest', 'VB', 'in', 'IN', '``', '``', 'socially', 'RB', 'responsible', 'JJ', \"''\", \"''\", 'companies', 'NNS', '', '', '', '', 'and', 'CC', 'a', 'DT', 'bond', 'NN', 'fund', 'NN', '']\n",
      "['', 'Both', 'DT', 'funds', 'NNS', 'are', 'VBP', 'expected', 'VBN', 'to', 'TO', 'begin', 'VB', 'operation', 'NN', 'around', 'IN', 'March', 'NNP', '1', 'CD', '', '', '', '', 'subject', 'JJ', 'to', 'TO', 'Securities', 'NNPS', 'and', 'CC', 'Exchange', 'NNP', 'Commission', 'NNP', 'approval', 'NN', '']\n",
      "['', 'For', 'IN', 'its', 'PRP$', 'employees', 'NNS', 'to', 'TO', 'sign', 'VB', 'up', 'RP', 'for', 'IN', 'the', 'DT', 'options', 'NNS', '', '', '', '', 'a', 'DT', 'college', 'NN', 'also', 'RB', 'must', 'MD', 'approve', 'VB', 'the', 'DT', 'plan', 'NN', '']\n",
      "['', 'Some', 'DT', '4', '300', 'CD', 'institutions', 'NNS', 'are', 'VBP', 'part', 'NN', 'of', 'IN', 'the', 'DT', 'pension', 'NN', 'fund', 'NN', '']\n",
      "['', 'The', 'DT', 'new', 'JJ', 'options', 'NNS', 'carry', 'VBP', 'out', 'RP', 'part', 'NN', 'of', 'IN', 'an', 'DT', 'agreement', 'NN', 'that', 'IN', 'the', 'DT', 'pension', 'NN', 'fund', 'NN', '', '', '', '', 'under', 'IN', 'pressure', 'NN', 'to', 'TO', 'relax', 'VB', 'its', 'PRP$', 'strict', 'JJ', 'participation', 'NN', 'rules', 'NNS', 'and', 'CC', 'to', 'TO', 'provide', 'VB', 'more', 'JJR', 'investment', 'NN', 'options', 'NNS', '', '', '', '', 'reached', 'VBN', 'with', 'IN', 'the', 'DT', 'SEC', 'NNP', 'in', 'IN', 'December', 'NNP', '']\n",
      "['', 'The', 'DT', 'new', 'JJ', '``', '``', 'social', 'JJ', 'choice', 'NN', \"''\", \"''\", 'fund', 'NN', 'will', 'MD', 'shun', 'VB', 'securities', 'NNS', 'of', 'IN', 'companies', 'NNS', 'linked', 'VBN', 'to', 'TO', 'South', 'NNP', 'Africa', 'NNP', '', '', '', '', 'nuclear', 'JJ', 'power', 'NN', 'and', 'CC', 'in', 'IN', 'some', 'DT', 'cases', 'NNS', '', '', '', '', 'Northern', 'NNP', 'Ireland', 'NNP', '']\n",
      "['', 'Also', 'RB', 'excluded', 'VBN', 'will', 'MD', 'be', 'VB', 'investments', 'NNS', 'in', 'IN', 'companies', 'NNS', 'with', 'IN', '``', '``', 'significant', 'JJ', \"''\", \"''\", 'business', 'NN', 'stemming', 'VBG', 'from', 'IN', 'weapons', 'NNS', 'manufacture', 'NN', '', '', '', '', 'alcoholic', 'JJ', 'beverages', 'NNS', 'or', 'CC', 'tobacco', 'NN', '']\n",
      "['', 'Sixty', 'CD', 'percent', 'NN', 'of', 'IN', 'the', 'DT', 'fund', 'NN', 'will', 'MD', 'be', 'VB', 'invested', 'VBN', 'in', 'IN', 'stocks', 'NNS', '', '', '', '', 'with', 'IN', 'the', 'DT', 'rest', 'NN', 'going', 'VBG', 'into', 'IN', 'bonds', 'NNS', 'or', 'CC', 'short-term', 'JJ', 'investments', 'NNS', '']\n",
      "['', 'The', 'DT', 'bond', 'NN', 'fund', 'NN', 'will', 'MD', 'invest', 'VB', 'in', 'IN', 'high-grade', 'JJ', 'or', 'CC', 'medium-grade', 'JJ', 'bonds', 'NNS', '', '', '', '', 'mortgages', 'NNS', 'or', 'CC', 'asset-backed', 'JJ', 'securities', 'NNS', '', '', '', '', 'including', 'VBG', 'as', 'JJ', 'much', 'RB', 'as', 'IN', '15', 'CD', '%', 'NN', 'in', 'IN', 'foreign', 'JJ', 'securities', 'NNS', '']\n",
      "['', 'The', 'DT', 'fund', 'NN', 'also', 'RB', 'might', 'MD', 'buy', 'VB', 'and', 'CC', 'sell', 'VB', 'futures', 'NNS', 'and', 'CC', 'options', 'NNS', 'contracts', 'NNS', '', '', '', '', 'subject', 'JJ', 'to', 'TO', 'approval', 'NN', 'by', 'IN', 'the', 'DT', 'New', 'NNP', 'York', 'NNP', 'State', 'NNP', 'Insurance', 'NNP', 'Department', 'NNP', '']\n",
      "['', 'Under', 'IN', 'two', 'CD', 'new', 'JJ', 'features', 'NNS', '', '', '', '', 'participants', 'NNS', 'will', 'MD', 'be', 'VB', 'able', 'JJ', 'to', 'TO', 'transfer', 'VB', 'money', 'NN', 'from', 'IN', 'the', 'DT', 'new', 'JJ', 'funds', 'NNS', 'to', 'TO', 'other', 'JJ', 'investment', 'NN', 'funds', 'NNS', 'or', 'CC', '', '', '', '', 'if', 'IN', 'their', 'PRP$', 'jobs', 'NNS', 'are', 'VBP', 'terminated', 'VBN', '', '', '', '', 'receive', 'VB', 'cash', 'NN', 'from', 'IN', 'the', 'DT', 'funds', 'NNS', '']\n",
      "['', 'The', 'DT', 'investment', 'NN', 'choices', 'NNS', 'offered', 'VBN', 'by', 'IN', 'the', 'DT', 'pension', 'NN', 'fund', 'NN', 'currently', 'RB', 'are', 'VBP', 'limited', 'VBN', 'to', 'TO', 'a', 'DT', 'stock', 'NN', 'fund', 'NN', '', '', '', '', 'an', 'DT', 'annuity', 'NN', 'and', 'CC', 'a', 'DT', 'money-market', 'NN', 'fund', 'NN', '']\n",
      "['', 'New', 'NNP', 'Brunswick', 'NNP', 'Scientific', 'NNP', 'Co.', 'NNP', '', '', '', '', 'a', 'DT', 'maker', 'NN', 'of', 'IN', 'biotechnology', 'NN', 'instrumentation', 'NN', 'and', 'CC', 'equipment', 'NN', '', '', '', '', 'said', 'VBD', 'it', 'PRP', 'adopted', 'VBD', 'an', 'DT', 'anti-takeover', 'JJ', 'plan', 'NN', 'giving', 'VBG', 'shareholders', 'NNS', 'the', 'DT', 'right', 'NN', 'to', 'TO', 'purchase', 'VB', 'shares', 'NNS', 'at', 'IN', 'half', 'JJ', 'price', 'NN', 'under', 'IN', 'certain', 'JJ', 'conditions', 'NNS', '']\n",
      "['', 'The', 'DT', 'company', 'NN', 'said', 'VBD', 'the', 'DT', 'plan', 'NN', '', '', '', '', 'under', 'IN', 'review', 'NN', 'for', 'IN', 'some', 'DT', 'time', 'NN', '', '', '', '', 'will', 'MD', 'protect', 'VB', 'shareholders', 'NNS', 'against', 'IN', '``', '``', 'abusive', 'JJ', 'takeover', 'NN', 'tactics', 'NNS', '']\n",
      "['', 'W.', 'NNP', 'Ed', 'NNP', 'Tyler', 'NNP', '', '', '', '', '37', 'CD', 'years', 'NNS', 'old', 'JJ', '', '', '', '', 'a', 'DT', 'senior', 'JJ', 'vice', 'NN', 'president', 'NN', 'at', 'IN', 'this', 'DT', 'printing', 'VBG', 'concern', 'NN', '', '', '', '', 'was', 'VBD', 'elected', 'VBN', 'president', 'NN', 'of', 'IN', 'its', 'PRP$', 'technology', 'NN', 'group', 'NN', '', '', '', '', 'a', 'DT', 'new', 'JJ', 'position', 'NN', '']\n",
      "['', 'Solo', 'JJ', 'woodwind', 'NN', 'players', 'NNS', 'have', 'VBP', 'to', 'TO', 'be', 'VB', 'creative', 'JJ', 'if', 'IN', 'they', 'PRP', 'want', 'VBP', 'to', 'TO', 'work', 'VB', 'a', 'DT', 'lot', 'NN', '', '', '', '', 'because', 'IN', 'their', 'PRP$', 'repertoire', 'NN', 'and', 'CC', 'audience', 'NN', 'appeal', 'NN', 'are', 'VBP', 'limited', 'JJ', '']\n",
      "['', 'The', 'DT', 'oboist', 'NN', 'Heinz', 'NNP', 'Holliger', 'NNP', 'has', 'VBZ', 'taken', 'VBN', 'a', 'DT', 'hard', 'JJ', 'line', 'NN', 'about', 'IN', 'the', 'DT', 'problem', 'NN', ':', ':', 'He', 'PRP', 'commissions', 'VBZ', 'and', 'CC', 'splendidly', 'RB', 'interprets', 'VBZ', 'fearsome', 'JJ', 'contemporary', 'JJ', 'scores', 'NNS', 'and', 'CC', 'does', 'VBZ', 'some', 'DT', 'conducting', 'NN', '', '', '', '', 'so', 'IN', 'he', 'PRP', 'does', 'VBZ', \"n't\", 'RB', 'have', 'VB', 'to', 'TO', 'play', 'VB', 'the', 'DT', 'same', 'JJ', 'Mozart', 'NNP', 'and', 'CC', 'Strauss', 'NNP', 'concertos', 'NNS', 'over', 'RB', 'and', 'CC', 'over', 'RB', 'again', 'RB', '']\n",
      "['', 'Richard', 'NNP', 'Stoltzman', 'NNP', 'has', 'VBZ', 'taken', 'VBN', 'a', 'DT', 'gentler', 'JJR', '', '', '', '', 'more', 'RBR', 'audience-friendly', 'JJ', 'approach', 'NN', '']\n",
      "['', 'Years', 'NNS', 'ago', 'RB', '', '', '', '', 'he', 'PRP', 'collaborated', 'VBD', 'with', 'IN', 'the', 'DT', 'new', 'JJ', 'music', 'NN', 'gurus', 'NNS', 'Peter', 'NNP', 'Serkin', 'NNP', 'and', 'CC', 'Fred', 'NNP', 'Sherry', 'NNP', 'in', 'IN', 'the', 'DT', 'very', 'RB', 'countercultural', 'JJ', 'chamber', 'NN', 'group', 'NN', 'Tashi', 'NNP', '', '', '', '', 'which', 'WDT', 'won', 'VBD', 'audiences', 'NNS', 'over', 'RP', 'to', 'TO', 'dreaded', 'JJ', 'contemporary', 'JJ', 'scores', 'NNS', 'like', 'IN', 'Messiaen', 'NNP', \"'s\", 'POS', '``', '``', 'Quartet', 'NN', 'for', 'IN', 'the', 'DT', 'End', 'NN', 'of', 'IN', 'Time', 'NN', '']\n",
      "['', \"''\", \"''\", 'Today', 'NN', '', '', '', '', 'the', 'DT', 'pixie-like', 'JJ', 'clarinetist', 'NN', 'has', 'VBZ', 'mostly', 'RB', 'dropped', 'VBN', 'the', 'DT', 'missionary', 'JJ', 'work', 'NN', '(', '-LRB-', 'though', 'IN', 'a', 'DT', 'touch', 'NN', 'of', 'IN', 'the', 'DT', 'old', 'JJ', 'Tashi', 'NNP', 'still', 'RB', 'survives', 'VBZ', ')', '-RRB-', 'and', 'CC', 'now', 'RB', 'goes', 'VBZ', 'on', 'IN', 'the', 'DT', 'road', 'NN', 'with', 'IN', 'piano', 'NN', '', '', '', '', 'bass', 'NN', '', '', '', '', 'a', 'DT', 'slide', 'NN', 'show', 'NN', '', '', '', '', 'and', 'CC', 'a', 'DT', 'repertoire', 'NN', 'that', 'WDT', 'ranges', 'VBZ', 'from', 'IN', 'light', 'JJ', 'classical', 'JJ', 'to', 'TO', 'light', 'JJ', 'jazz', 'NN', 'to', 'TO', 'light', 'JJ', 'pop', 'NN', '', '', '', '', 'with', 'IN', 'a', 'DT', 'few', 'JJ', 'notable', 'JJ', 'exceptions', 'NNS', '']\n",
      "['', 'Just', 'RB', 'the', 'DT', 'thing', 'NN', 'for', 'IN', 'the', 'DT', 'Vivaldi-at-brunch', 'JJ', 'set', 'NN', '', '', '', '', 'the', 'DT', 'yuppie', 'NN', 'audience', 'NN', 'that', 'WDT', 'has', 'VBZ', 'embraced', 'VBN', 'New', 'NNP', 'Age', 'NNP', 'as', 'IN', 'its', 'PRP$', 'very', 'RB', 'own', 'JJ', 'easy', 'JJ', 'listening', 'NN', '']\n",
      "['', 'But', 'CC', 'you', 'PRP', 'ca', 'MD', \"n't\", 'RB', 'dismiss', 'VB', 'Mr.', 'NNP', 'Stoltzman', 'NNP', \"'s\", 'POS', 'music', 'NN', 'or', 'CC', 'his', 'PRP$', 'motives', 'NNS', 'as', 'RB', 'merely', 'RB', 'commercial', 'JJ', 'and', 'CC', 'lightweight', 'JJ', '']\n",
      "['', 'He', 'PRP', 'believes', 'VBZ', 'in', 'IN', 'what', 'WP', 'he', 'PRP', 'plays', 'VBZ', '', '', '', '', 'and', 'CC', 'he', 'PRP', 'plays', 'VBZ', 'superbly', 'RB', '']\n",
      "['', 'His', 'PRP$', 'recent', 'JJ', 'appearance', 'NN', 'at', 'IN', 'the', 'DT', 'Metropolitan', 'NNP', 'Museum', 'NNP', '', '', '', '', 'dubbed', 'VBN', '``', '``', 'A', 'DT', 'Musical', 'JJ', 'Odyssey', 'NN', '', '', '', '', \"''\", \"''\", 'was', 'VBD', 'a', 'DT', 'case', 'NN', 'in', 'IN', 'point', 'NN', '']\n",
      "['', 'It', 'PRP', 'felt', 'VBD', 'more', 'RBR', 'like', 'IN', 'a', 'DT', 'party', 'NN', '', '', '', '', 'or', 'CC', 'a', 'DT', 'highly', 'RB', 'polished', 'JJ', 'jam', 'NN', 'session', 'NN', 'with', 'IN', 'a', 'DT', 'few', 'JJ', 'friends', 'NNS', '', '', '', '', 'than', 'IN', 'a', 'DT', 'classical', 'JJ', 'concert', 'NN', '']\n",
      "['', 'Clad', 'VBN', 'in', 'IN', 'his', 'PRP$', 'trademark', 'NN', 'black', 'JJ', 'velvet', 'NN', 'suit', 'NN', '', '', '', '', 'the', 'DT', 'soft-spoken', 'JJ', 'clarinetist', 'NN', 'announced', 'VBD', 'that', 'IN', 'his', 'PRP$', 'new', 'JJ', 'album', 'NN', '', '', '', '', '``', '``', 'Inner', 'JJ', 'Voices', 'NNS', '', '', '', '', \"''\", \"''\", 'had', 'VBD', 'just', 'RB', 'been', 'VBN', 'released', 'VBN', '', '', '', '', 'that', 'IN', 'his', 'PRP$', 'family', 'NN', 'was', 'VBD', 'in', 'IN', 'the', 'DT', 'front', 'NN', 'row', 'NN', '', '', '', '', 'and', 'CC', 'that', 'IN', 'it', 'PRP', 'was', 'VBD', 'his', 'PRP$', 'mother', 'NN', \"'s\", 'POS', 'birthday', 'NN', '', '', '', '', 'so', 'RB', 'he', 'PRP', 'was', 'VBD', 'going', 'VBG', 'to', 'TO', 'play', 'VB', 'her', 'PRP$', 'favorite', 'JJ', 'tune', 'NN', 'from', 'IN', 'the', 'DT', 'record', 'NN', '']\n",
      "['', 'He', 'PRP', 'launched', 'VBD', 'into', 'IN', 'Saint-Saens', 'NNP', \"'s\", 'POS', '``', '``', 'The', 'DT', 'Swan', 'NN', \"''\", \"''\", 'from', 'IN', '``', '``', 'Carnival', 'NN', 'of', 'IN', 'the', 'DT', 'Animals', 'NNS', '', '', '', '', \"''\", \"''\", 'a', 'DT', 'favorite', 'JJ', 'encore', 'NN', 'piece', 'NN', 'for', 'IN', 'cellists', 'NNS', '', '', '', '', 'with', 'IN', 'lovely', 'JJ', '', '', '', '', 'glossy', 'JJ', 'tone', 'NN', 'and', 'CC', 'no', 'DT', 'bite', 'NN', '']\n",
      "['', 'Then', 'RB', '', '', '', '', 'as', 'IN', 'if', 'IN', 'to', 'TO', 'show', 'VB', 'that', 'IN', 'he', 'PRP', 'could', 'MD', 'play', 'VB', 'fast', 'RB', 'as', 'IN', 'well', 'RB', '', '', '', '', 'he', 'PRP', 'offered', 'VBD', 'the', 'DT', 'second', 'JJ', 'movement', 'NN', 'from', 'IN', 'Saint-Saens', 'NNP', \"'s\", 'POS', 'Sonata', 'NN', 'for', 'IN', 'Clarinet', 'NN', '', '', '', '', 'a', 'DT', 'whimsical', 'JJ', '', '', '', '', 'puckish', 'JJ', 'tidbit', 'NN', 'that', 'WDT', 'reflected', 'VBD', 'the', 'DT', 'flip', 'JJ', 'side', 'NN', 'of', 'IN', 'the', 'DT', 'Stoltzman', 'NNP', 'personality', 'NN', '']\n",
      "['', 'And', 'CC', 'so', 'RB', 'it', 'PRP', 'went', 'VBD', 'through', 'IN', 'the', 'DT', 'first', 'JJ', 'half', 'NN', ':', ':', 'an', 'DT', 'ingeniously', 'RB', 'chosen', 'VBN', 'potpourri', 'NN', 'of', 'IN', 'pieces', 'NNS', '', '', '', '', 'none', 'NN', 'longer', 'JJR', 'than', 'IN', 'five', 'CD', 'minutes', 'NNS', '', '', '', '', 'none', 'NN', 'that', 'WDT', 'would', 'MD', 'disturb', 'VB', 'or', 'CC', 'challenge', 'VB', 'a', 'DT', 'listener', 'NN', '']\n",
      "['', 'Mr.', 'NNP', 'Stoltzman', 'NNP', 'introduced', 'VBD', 'his', 'PRP$', 'colleagues', 'NNS', ':', ':', 'Bill', 'NNP', 'Douglas', 'NNP', '', '', '', '', 'pianist', 'bassoonist', 'composer', 'NN', 'and', 'CC', 'an', 'DT', 'old', 'JJ', 'buddy', 'NN', 'from', 'IN', 'Yale', 'NNP', '', '', '', '', 'and', 'CC', 'jazz', 'NN', 'bassist', 'NN', 'Eddie', 'NNP', 'Gomez', 'NNP', '']\n",
      "['', 'An', 'DT', 'improvisational', 'JJ', 'section', 'NN', 'was', 'VBD', 'built', 'VBN', 'around', 'IN', 'pieces', 'NNS', 'by', 'IN', 'Mr.', 'NNP', 'Douglas', 'NNP', '', '', '', '', 'beginning', 'NN', 'with', 'IN', '``', '``', 'Golden', 'JJ', 'Rain', 'NN', '', '', '', '', \"''\", \"''\", 'a', 'DT', 'lilting', 'JJ', '', '', '', '', 'laid-back', 'JJ', 'lead', 'NN', 'in', 'IN', 'to', 'TO', 'the', 'DT', 'uptempo', 'JJ', '``', '``', 'Sky', 'NN', '', '', '', '', \"''\", \"''\", 'which', 'WDT', 'gave', 'VBD', 'Mr.', 'NNP', 'Stoltzman', 'NNP', 'the', 'DT', 'opportunity', 'NN', 'to', 'TO', 'wail', 'VB', 'in', 'IN', 'a', 'DT', 'high', 'JJ', 'register', 'NN', 'and', 'CC', 'show', 'VB', 'off', 'RP', 'his', 'PRP$', 'fleet', 'JJ', 'fingers', 'NNS', '']\n",
      "['', 'Bach', 'NNP', \"'s\", 'POS', '``', '``', 'Air', 'NN', \"''\", \"''\", 'followed', 'VBD', '']\n",
      "['', 'Mr.', 'NNP', 'Stoltzman', 'NNP', 'tied', 'VBD', 'the', 'DT', 'composer', 'NN', 'in', 'RP', 'by', 'IN', 'proclaiming', 'VBG', 'him', 'PRP', '``', '``', 'the', 'DT', 'great', 'JJ', 'improviser', 'NN', 'of', 'IN', 'the', 'DT', '18th', 'JJ', 'century', 'NN', '', '', '', '', \"''\", \"''\", 'and', 'CC', 'then', 'RB', 'built', 'VBD', 'on', 'IN', 'the', 'DT', 'image', 'NN', 'by', 'IN', 'joining', 'VBG', 'with', 'IN', 'Mr.', 'NNP', 'Douglas', 'NNP', 'in', 'IN', 'some', 'DT', 'Bach', 'NNP', 'two-part', 'JJ', 'inventions', 'NNS', '', '', '', '', 'cleverly', 'RB', 'arranged', 'VBN', 'for', 'IN', 'clarinet', 'NN', 'and', 'CC', 'bassoon', 'NN', 'by', 'IN', 'Mr.', 'NNP', 'Douglas', 'NNP', '']\n",
      "['', 'Keeping', 'VBG', 'the', 'DT', 'mood', 'NN', 'light', 'JJ', '', '', '', '', 'the', 'DT', 'two', 'CD', 'then', 'RB', 'chanted', 'VBD', 'and', 'CC', 'chortled', 'VBD', 'their', 'PRP$', 'way', 'NN', 'through', 'IN', 'some', 'DT', 'murderous', 'JJ', 'polyrhythms', 'NNS', '', '', '', '', 'devised', 'VBN', 'by', 'IN', 'Mr.', 'NNP', 'Douglas', 'NNP', 'as', 'IN', 'an', 'DT', 'alternative', 'NN', 'to', 'TO', 'Hindemith', 'NNP', \"'s\", 'POS', 'dry', 'JJ', 'theory-teaching', 'VBG', 'techniques', 'NNS', '', '', '', '', 'and', 'CC', 'then', 'RB', '', '', '', '', 'with', 'IN', 'Mr.', 'NNP', 'Gomez', 'NNP', '', '', '', '', 'soared', 'VBD', 'and', 'CC', 'improvised', 'VBD', 'on', 'IN', 'the', 'DT', 'composer', 'NN', \"'s\", 'POS', 'tight', 'JJ', '``', '``', 'Bebop', 'NNP', 'Etudes', 'NNP', '']\n",
      "['', \"''\", \"''\", 'The', 'DT', 'end', 'NN', 'of', 'IN', 'the', 'DT', 'first', 'JJ', 'half', 'NN', '', '', '', '', 'however', 'RB', '', '', '', '', 'brought', 'VBD', 'what', 'WP', 'the', 'DT', 'standing-room-only', 'JJ', 'crowd', 'NN', 'seemed', 'VBD', 'to', 'TO', 'be', 'VB', 'waiting', 'VBG', 'for', 'IN', ':', ':', 'the', 'DT', 'pop', 'NN', 'singer', 'NN', 'Judy', 'NNP', 'Collins', 'NNP', '', '', '', '', 'who', 'WP', 'appears', 'VBZ', 'on', 'IN', '``', '``', 'Inner', 'JJ', 'Voices', 'NNS', '']\n",
      "['', \"''\", \"''\", 'Glamorous', 'JJ', 'and', 'CC', 'pure-voiced', 'JJ', 'as', 'IN', 'ever', 'RB', '', '', '', '', 'Ms.', 'NNP', 'Collins', 'NNP', 'sang', 'VBD', 'Joni', 'NNP', 'Mitchell', 'NNP', \"'s\", 'POS', '``', '``', 'For', 'IN', 'Free', 'RB', \"''\", \"''\", '--', ':', 'about', 'IN', 'an', 'DT', 'encounter', 'NN', 'with', 'IN', 'a', 'DT', 'street-corner', 'JJ', 'clarinetist', 'NN', '', '', '', '', 'to', 'TO', 'which', 'WDT', 'Mr.', 'NNP', 'Stoltzman', 'NNP', 'contributed', 'VBD', 'a', 'DT', 'clarinet', 'NN', 'obligatto', 'NN', '--', ':', 'and', 'CC', 'Mr.', 'NNP', 'Douglas', 'NNP', \"'s\", 'POS', 'lush', 'JJ', 'setting', 'NN', 'of', 'IN', 'a', 'DT', 'Gaelic', 'JJ', 'blessing', 'NN', '', '', '', '', '``', '``', 'Deep', 'JJ', 'Peace', 'NN', '']\n",
      "['', \"''\", \"''\", '``', '``', 'Deep', 'JJ', 'Peace', 'NN', \"''\", \"''\", 'also', 'RB', 'featured', 'VBD', 'a', 'DT', 'slide', 'NN', 'show', 'NN', 'of', 'IN', 'lovely', 'JJ', 'but', 'CC', 'predictable', 'JJ', 'images', 'NNS', 'of', 'IN', 'clouds', 'NNS', '', '', '', '', 'beaches', 'NNS', '', '', '', '', 'deserts', 'NNS', '', '', '', '', 'sunsets', 'NNS', '', '', '', '', 'etc', 'FW', '']\n",
      "['', 'It', 'PRP', 'was', 'VBD', 'all', 'RB', 'too', 'RB', 'mellow', 'JJ', 'to', 'TO', 'be', 'VB', 'believed', 'VBN', '', '', '', '', 'but', 'CC', 'they', 'PRP', 'probably', 'RB', 'would', 'MD', 'have', 'VB', 'gotten', 'VBN', 'away', 'RP', 'with', 'IN', 'it', 'PRP', '', '', '', '', 'had', 'VBD', 'they', 'PRP', 'not', 'RB', 'felt', 'VBD', 'compelled', 'VBN', 'to', 'TO', 'add', 'VB', 'Ms.', 'NNP', 'Collins', 'NNP', \"'s\", 'POS', 'signature', 'NN', 'tune', 'NN', '', '', '', '', '``', '``', 'Amazing', 'JJ', 'Grace', 'NN', '', '', '', '', \"''\", \"''\", 'and', 'CC', 'ask', 'VB', 'for', 'IN', 'audience', 'NN', 'participation', 'NN', '']\n",
      "['', 'That', 'WDT', 'went', 'VBD', 'over', 'IN', 'the', 'DT', 'permissible', 'JJ', 'line', 'NN', 'for', 'IN', 'warm', 'JJ', 'and', 'CC', 'fuzzy', 'JJ', 'feelings', 'NNS', '']\n",
      "['', 'Was', 'VBD', 'this', 'DT', 'why', 'WRB', 'some', 'DT', 'of', 'IN', 'the', 'DT', 'audience', 'NN', 'departed', 'VBD', 'before', 'IN', 'or', 'CC', 'during', 'IN', 'the', 'DT', 'second', 'JJ', 'half', 'NN', '?', '.', 'Or', 'CC', 'was', 'VBD', 'it', 'PRP', 'because', 'IN', 'Ms.', 'NNP', 'Collins', 'NNP', 'had', 'VBD', 'gone', 'VBN', '?', '.', 'Either', 'DT', 'way', 'NN', 'it', 'PRP', 'was', 'VBD', 'a', 'DT', 'pity', 'NN', '', '', '', '', 'because', 'IN', 'Mr.', 'NNP', 'Stolzman', 'NNP', 'offered', 'VBD', 'the', 'DT', 'most', 'RBS', 'substantial', 'JJ', 'music', 'NN', 'of', 'IN', 'the', 'DT', 'evening', 'NN', 'just', 'RB', 'after', 'IN', 'intermission', 'NN', ':', ':', 'Steve', 'NNP', 'Reich', 'NNP', \"'s\", 'POS', '``', '``', 'New', 'NNP', 'York', 'NNP', 'Counterpoint', 'NN', '', '', '', '', \"''\", \"''\", 'one', 'CD', 'of', 'IN', 'a', 'DT', 'series', 'NN', 'of', 'IN', 'Reich', 'NNP', 'works', 'NNS', 'that', 'WDT', 'juxtapose', 'VBP', 'a', 'DT', 'live', 'JJ', 'performer', 'NN', 'with', 'IN', 'recorded', 'JJ', 'tracks', 'NNS', 'of', 'IN', 'his', 'PRP$', 'or', 'CC', 'her', 'PRP$', 'own', 'JJ', 'playing', 'NN', '']\n",
      "['', '(', '-LRB-', 'Mr.', 'NNP', 'Reich', 'NNP', \"'s\", 'POS', 'new', 'JJ', '``', '``', 'Different', 'JJ', 'Trains', 'NNS', \"''\", \"''\", 'for', 'IN', 'string', 'NN', 'quartet', 'NN', 'uses', 'VBZ', 'the', 'DT', 'technique', 'NN', 'magisterially', 'RB', '']\n",
      "['', ')', '-RRB-', 'Mr.', 'NNP', 'Stoltzman', 'NNP', 'must', 'MD', 'have', 'VB', 'worried', 'VBN', 'that', 'IN', 'his', 'PRP$', 'audience', 'NN', 'might', 'MD', 'not', 'RB', 'be', 'VB', 'able', 'JJ', 'to', 'TO', 'take', 'VB', 'it', 'PRP', ':', ':', 'He', 'PRP', 'warned', 'VBD', 'us', 'PRP', 'in', 'IN', 'advance', 'NN', 'that', 'IN', '``', '``', 'New', 'NNP', 'York', 'NNP', 'Counterpoint', 'NN', \"''\", \"''\", 'lasts', 'VBZ', '11', 'CD', '1', '2', 'CD', 'minutes', 'NNS', '']\n",
      "['', 'He', 'PRP', 'also', 'RB', 'unfortunately', 'RB', 'illustrated', 'VBD', 'this', 'DT', 'intricate', 'JJ', '', '', '', '', 'jazzy', 'JJ', 'tapestry', 'NN', 'with', 'IN', 'Mr.', 'NNP', 'Pearson', 'NNP', \"'s\", 'POS', 'images', 'NNS', '', '', '', '', 'this', 'DT', 'time', 'NN', 'of', 'IN', 'geometric', 'JJ', 'or', 'CC', 'repeating', 'JJ', 'objects', 'NNS', '', '', '', '', 'in', 'IN', 'a', 'DT', 'kitschy', 'JJ', 'mirroring', 'NN', 'of', 'IN', 'the', 'DT', 'musical', 'JJ', 'structure', 'NN', 'that', 'WDT', 'was', 'VBD', 'thoroughly', 'RB', 'distracting', 'VBG', 'from', 'IN', 'Mr.', 'NNP', 'Reich', 'NNP', \"'s\", 'POS', 'piece', 'NN', 'and', 'CC', 'Mr.', 'NNP', 'Stoltzman', 'NNP', \"'s\", 'POS', 'elegant', 'JJ', 'execution', 'NN', 'of', 'IN', 'it', 'PRP', '']\n",
      "['', 'The', 'DT', 'rest', 'NN', 'of', 'IN', 'the', 'DT', 'concert', 'NN', 'was', 'VBD', 'more', 'JJR', 'straight', 'JJ', 'jazz', 'NN', 'and', 'CC', 'mellow', 'JJ', 'sounds', 'NNS', 'written', 'VBN', 'by', 'IN', 'Charlie', 'NNP', 'Parker', 'NNP', '', '', '', '', 'Ornette', 'NNP', 'Coleman', 'NNP', '', '', '', '', 'Bill', 'NNP', 'Douglas', 'NNP', 'and', 'CC', 'Eddie', 'NNP', 'Gomez', 'NNP', '', '', '', '', 'with', 'IN', 'pictures', 'NNS', 'for', 'IN', 'the', 'DT', 'Douglas', 'NNP', 'pieces', 'NNS', '']\n",
      "['', 'It', 'PRP', 'was', 'VBD', 'enjoyable', 'JJ', 'to', 'TO', 'hear', 'VB', 'accomplished', 'JJ', 'jazz', 'NN', 'without', 'IN', 'having', 'VBG', 'to', 'TO', 'sit', 'VB', 'in', 'IN', 'a', 'DT', 'smoke-filled', 'JJ', 'club', 'NN', '', '', '', '', 'but', 'CC', 'like', 'IN', 'the', 'DT', 'first', 'JJ', 'half', 'NN', '', '', '', '', 'much', 'JJ', 'of', 'IN', 'it', 'PRP', 'was', 'VBD', 'easy', 'JJ', 'to', 'TO', 'take', 'VB', 'and', 'CC', 'ultimately', 'RB', 'forgettable', 'JJ', '']\n",
      "['', 'Is', 'VBZ', 'this', 'DT', 'the', 'DT', 'future', 'NN', 'of', 'IN', 'chamber', 'NN', 'music', 'NN', '?', '.', 'Managers', 'NNS', 'and', 'CC', 'presenters', 'NNS', 'insist', 'VBP', 'that', 'IN', 'chamber', 'NN', 'music', 'NN', 'concerts', 'NNS', 'are', 'VBP', 'a', 'DT', 'hard', 'JJ', 'sell', 'NN', '', '', '', '', 'but', 'CC', 'can', 'MD', 'audiences', 'NNS', 'really', 'RB', 'enjoy', 'VB', 'them', 'PRP', 'only', 'RB', 'if', 'IN', 'the', 'DT', 'music', 'NN', 'is', 'VBZ', 'purged', 'VBN', 'of', 'IN', 'threatening', 'JJ', 'elements', 'NNS', '', '', '', '', 'served', 'VBN', 'up', 'RP', 'in', 'IN', 'bite-sized', 'JJ', 'morsels', 'NNS', 'and', 'CC', 'accompanied', 'VBN', 'by', 'IN', 'visuals', 'NNS', '?', '.', 'What', 'WP', \"'s\", 'VBZ', 'next', 'JJ', '?', '.', 'Slides', 'NNS', 'to', 'TO', 'illustrate', 'VB', 'Shostakovich', 'NNP', 'quartets', 'NNS', '?', '.', 'It', 'PRP', 'was', 'VBD', 'not', 'RB', 'an', 'DT', 'unpleasant', 'JJ', 'evening', 'NN', '', '', '', '', 'certainly', 'RB', '', '', '', '', 'thanks', 'NNS', 'to', 'TO', 'the', 'DT', 'high', 'JJ', 'level', 'NN', 'of', 'IN', 'performance', 'NN', '', '', '', '', 'the', 'DT', 'compositional', 'JJ', 'talents', 'NNS', 'of', 'IN', 'Mr.', 'NNP', 'Douglas', 'NNP', '', '', '', '', 'and', 'CC', 'the', 'DT', 'obvious', 'JJ', 'sincerity', 'NN', 'with', 'IN', 'which', 'WDT', 'Mr.', 'NNP', 'Stoltzman', 'NNP', 'chooses', 'VBZ', 'his', 'PRP$', 'selections', 'NNS', '']\n",
      "['', 'But', 'CC', 'it', 'PRP', 'was', 'VBD', 'neither', 'RB', 'deep', 'JJ', 'nor', 'CC', 'lasting', 'JJ', ':', ':', 'light', 'JJ', 'entertainment', 'NN', 'that', 'WDT', 'was', 'VBD', 'no', 'DT', 'substitute', 'NN', 'for', 'IN', 'an', 'DT', 'evening', 'NN', 'of', 'IN', 'Brahms', 'NNP', '']\n",
      "['', 'Ms.', 'NNP', 'Waleson', 'NNP', 'is', 'VBZ', 'a', 'DT', 'free-lance', 'JJ', 'writer', 'NN', 'based', 'VBN', 'in', 'IN', 'New', 'NNP', 'York', 'NNP', '']\n",
      "['', 'One', 'CD', 'of', 'IN', 'Ronald', 'NNP', 'Reagan', 'NNP', \"'s\", 'POS', 'attributes', 'NNS', 'as', 'IN', 'President', 'NNP', 'was', 'VBD', 'that', 'IN', 'he', 'PRP', 'rarely', 'RB', 'gave', 'VBD', 'his', 'PRP$', 'blessing', 'NN', 'to', 'TO', 'the', 'DT', 'claptrap', 'NN', 'that', 'WDT', 'passes', 'VBZ', 'for', 'IN', '``', '``', 'consensus', 'NN', \"''\", \"''\", 'in', 'IN', 'various', 'JJ', 'international', 'JJ', 'institutions', 'NNS', '']\n",
      "['', 'In', 'IN', 'fact', 'NN', '', '', '', '', 'he', 'PRP', 'liberated', 'VBD', 'the', 'DT', 'U.S.', 'NNP', 'from', 'IN', 'one', 'CD', 'of', 'IN', 'the', 'DT', 'world', 'NN', \"'s\", 'VBZ', 'most', 'RBS', 'corrupt', 'JJ', 'organizations', 'NNS', '--', ':', 'UNESCO', 'NNP', '']\n",
      "['', 'This', 'DT', 'is', 'VBZ', 'the', 'DT', 'U.N.', 'NNP', 'group', 'NN', 'that', 'WDT', 'managed', 'VBD', 'to', 'TO', 'traduce', 'VB', 'its', 'PRP$', 'own', 'JJ', 'charter', 'NN', 'of', 'IN', 'promoting', 'VBG', 'education', 'NN', '', '', '', '', 'science', 'NN', 'and', 'CC', 'culture', 'NN', '']\n",
      "['', 'Ever', 'RB', 'since', 'IN', '', '', '', '', 'the', 'DT', 'remaining', 'VBG', 'members', 'NNS', 'have', 'VBP', 'been', 'VBN', 'desperate', 'JJ', 'for', 'IN', 'the', 'DT', 'United', 'NNP', 'States', 'NNPS', 'to', 'TO', 'rejoin', 'VB', 'this', 'DT', 'dreadful', 'JJ', 'group', 'NN', '']\n",
      "['', 'Now', 'RB', 'UNESCO', 'NNP', 'apologists', 'NNS', 'are', 'VBP', 'lobbying', 'VBG', 'President', 'NNP', 'Bush', 'NNP', 'to', 'TO', 'renege', 'VB', 'on', 'IN', 'President', 'NNP', 'Reagan', 'NNP', \"'s\", 'POS', 'decision', 'NN', 'to', 'TO', 'depart', 'VB', '']\n",
      "['', 'But', 'CC', 'we', 'PRP', 'can', 'MD', 'think', 'VB', 'of', 'IN', 'many', 'JJ', 'reasons', 'NNS', 'to', 'TO', 'stay', 'VB', 'out', 'RB', 'for', 'IN', 'the', 'DT', 'foreseeable', 'JJ', 'future', 'NN', 'and', 'CC', 'well', 'RB', 'beyond', 'IN', '']\n",
      "['', 'The', 'DT', 'U.S.', 'NNP', '', '', '', '', 'along', 'IN', 'with', 'IN', 'Britain', 'NNP', 'and', 'CC', 'Singapore', 'NNP', '', '', '', '', 'left', 'VBD', 'the', 'DT', 'agency', 'NN', 'when', 'WRB', 'its', 'PRP$', 'anti-Western', 'JJ', 'ideology', 'NN', '', '', '', '', 'financial', 'JJ', 'corruption', 'NN', 'and', 'CC', 'top', 'JJ', 'leadership', 'NN', 'got', 'VBD', 'out', 'IN', 'of', 'IN', 'hand', 'NN', '']\n",
      "['', 'The', 'DT', 'personal', 'JJ', 'antics', 'NNS', 'of', 'IN', 'agency', 'NN', 'Director', 'NNP', 'Amadou-Mahtar', 'NNP', \"M'Bow\", 'NNP', 'drew', 'VBD', 'much', 'JJ', 'attention', 'NN', '', '', '', '', 'such', 'JJ', 'as', 'IN', 'when', 'WRB', 'several', 'JJ', 'of', 'IN', 'his', 'PRP$', 'top', 'JJ', 'aides', 'NNS', 'were', 'VBD', 'uncovered', 'VBN', 'as', 'IN', 'KGB', 'NNP', 'plants', 'NNS', 'and', 'CC', 'ejected', 'VBN', 'from', 'IN', 'France', 'NNP', 'and', 'CC', 'when', 'WRB', 'a', 'DT', 'mysterious', 'JJ', 'office', 'NN', 'fire', 'NN', 'was', 'VBD', 'set', 'VBN', 'just', 'RB', 'before', 'IN', 'Congress', 'NNP', 'sent', 'VBD', 'accountants', 'NNS', 'to', 'TO', 'trace', 'VB', 'U.S.', 'NNP', 'funds', 'NNS', '']\n",
      "['', 'Mr.', 'NNP', \"M'Bow\", 'NNP', 'was', 'VBD', 'an', 'DT', 'extreme', 'JJ', 'case', 'NN', '', '', '', '', 'but', 'CC', 'even', 'RB', 'his', 'PRP$', 'replacement', 'NN', '', '', '', '', 'the', 'DT', 'more', 'RBR', 'personally', 'RB', 'genial', 'JJ', 'Spanish', 'JJ', 'biochemist', 'NN', 'Federico', 'NNP', 'Mayor', 'NNP', '', '', '', '', 'has', 'VBZ', 'had', 'VBN', 'little', 'JJ', 'success', 'NN', 'at', 'IN', 'achieving', 'VBG', 'reforms', 'NNS', '']\n",
      "['', 'Several', 'JJ', 'ridiculous', 'JJ', 'projects', 'NNS', 'continue', 'VBP', '', '', '', '', 'including', 'VBG', 'the', 'DT', '``', '``', 'New', 'JJ', 'International', 'JJ', 'Economic', 'JJ', 'Order', 'NN', '', '', '', '', \"''\", \"''\", 'which', 'WDT', 'means', 'VBZ', 'redistributionism', 'NN', 'from', 'IN', 'the', 'DT', 'West', 'NNP', 'to', 'TO', 'pay', 'VB', 'for', 'IN', 'everyone', 'NN', 'else', 'RB', \"'s\", 'POS', 'statism', 'NN', '']\n",
      "['', '']\n",
      "{}\n"
     ]
    }
   ],
   "source": [
    "import pandas as pd\n",
    "def prepare_sequence(seq, to_ix):  \n",
    "    idxs = [to_ix[w] for w in seq]\n",
    "    return torch.tensor(idxs, dtype=torch.long)\n",
    "\n",
    "file = open(\"corpus-small.train\", \"r\")\n",
    "handle = file.read()\n",
    "sentences = list(filter(None, handle.replace(',',' ').replace('\\n',' ').split(\"./.\") ))\n",
    "file.close()\n",
    "training_data = []\n",
    "for sentence in sentences:\n",
    "    sentence = sentence.replace(\" \",\"/\").split(\"/\")\n",
    "    words = []\n",
    "    tags = []\n",
    "    print(sentence)\n",
    "    for idx in range(len(sentence)):\n",
    "        if(idx%2 == 0):\n",
    "            words += sentence[idx]\n",
    "        else:\n",
    "            tags += sentence[idx]\n",
    "    print(words, tags)\n",
    "    #training_data.append(separated)\n",
    "    \n",
    "training_data2= [\n",
    "    (\"The dog ate the apple\".split(), [\"DET\", \"NN\", \"V\", \"DET\", \"NN\"]),\n",
    "    (\"Everybody read that book\".split(), [\"NN\", \"V\", \"DET\", \"NN\"])\n",
    "]\n",
    "word_to_ix = {}\n",
    "for sent, tags in training_data:\n",
    "    for word in sent:\n",
    "        if word not in word_to_ix:\n",
    "            word_to_ix[word] = len(word_to_ix)\n",
    "print(word_to_ix)\n",
    "tag_to_ix = {\"DET\": 0, \"NN\": 1, \"V\": 2}\n",
    "\n",
    "# These will usually be more like 32 or 64 dimensional.\n",
    "# We will keep them small, so we can see how the weights change as we train.\n",
    "EMBEDDING_DIM = 6\n",
    "HIDDEN_DIM = 6"
   ]
  },
  {
   "cell_type": "code",
   "execution_count": null,
   "metadata": {},
   "outputs": [],
   "source": [
    "class LSTMTagger(nn.Module):\n",
    "\n",
    "    def __init__(self, embedding_dim, hidden_dim, vocab_size, tagset_size):\n",
    "        super(LSTMTagger, self).__init__()\n",
    "        self.hidden_dim = hidden_dim\n",
    "\n",
    "        self.word_embeddings = nn.Embedding(vocab_size, embedding_dim)\n",
    "\n",
    "        # The LSTM takes word embeddings as inputs, and outputs hidden states\n",
    "        # with dimensionality hidden_dim.\n",
    "        self.lstm = nn.LSTM(embedding_dim, hidden_dim)\n",
    "\n",
    "        # The linear layer that maps from hidden state space to tag space\n",
    "        self.hidden2tag = nn.Linear(hidden_dim, tagset_size)\n",
    "\n",
    "    def forward(self, sentence):\n",
    "        embeds = self.word_embeddings(sentence)\n",
    "        lstm_out, _ = self.lstm(embeds.view(len(sentence), 1, -1))\n",
    "        tag_space = self.hidden2tag(lstm_out.view(len(sentence), -1))\n",
    "        tag_scores = F.log_softmax(tag_space, dim=1)\n",
    "        return tag_scores"
   ]
  },
  {
   "cell_type": "code",
   "execution_count": null,
   "metadata": {},
   "outputs": [],
   "source": [
    "model = LSTMTagger(EMBEDDING_DIM, HIDDEN_DIM, len(word_to_ix), len(tag_to_ix))\n",
    "loss_function = nn.NLLLoss()\n",
    "optimizer = optim.SGD(model.parameters(), lr=0.1)\n",
    "\n",
    "# See what the scores are before training\n",
    "# Note that element i,j of the output is the score for tag j for word i.\n",
    "# Here we don't need to train, so the code is wrapped in torch.no_grad()\n",
    "with torch.no_grad():\n",
    "    inputs = prepare_sequence(training_data[0][0], word_to_ix)\n",
    "    tag_scores = model(inputs)\n",
    "    print(tag_scores)\n",
    "\n",
    "### Reduce number of epochs, if training data is big\n",
    "for epoch in range(300):  # again, normally you would NOT do 300 epochs, it is toy data\n",
    "    for sentence, tags in training_data:\n",
    "        # Step 1. Remember that Pytorch accumulates gradients.\n",
    "        # We need to clear them out before each instance\n",
    "        model.zero_grad()\n",
    "\n",
    "        # Step 2. Get our inputs ready for the network, that is, turn them into\n",
    "        # Tensors of word indices.\n",
    "        sentence_in = prepare_sequence(sentence, word_to_ix)\n",
    "        targets = prepare_sequence(tags, tag_to_ix)\n",
    "\n",
    "        # Step 3. Run our forward pass.\n",
    "        tag_scores = model(sentence_in)\n",
    "\n",
    "        # Step 4. Compute the loss, gradients, and update the parameters by\n",
    "        #  calling optimizer.step()\n",
    "        loss = loss_function(tag_scores, targets)\n",
    "        loss.backward()\n",
    "        optimizer.step()\n",
    "\n",
    "# See what the scores are after training\n",
    "import numpy as np\n",
    "with torch.no_grad():\n",
    "    inputs = prepare_sequence(training_data[0][0], word_to_ix)\n",
    "    tag_scores = model(inputs)\n",
    "    # The sentence is \"the dog ate the apple\".  i,j corresponds to score for tag j\n",
    "    # for word i. The predicted tag is the maximum scoring tag.\n",
    "    # Here, we can see the predicted sequence below is 0 1 2 0 1\n",
    "    # since 0 is index of the maximum value of row 1,\n",
    "    # 1 is the index of maximum value of row 2, etc.\n",
    "    # Which is DET NOUN VERB DET NOUN, the correct sequence!\n",
    "    print(tag_scores)"
   ]
  },
  {
   "cell_type": "markdown",
   "metadata": {},
   "source": [
    "**Task:**\n",
    "\n",
    "Read the test data `corpus-small.test` and process it then get the predicitions.Write down the output tagged predicitons in file `corpus-small.out` in the same form as `corpus-small.answer`.\n",
    "\n",
    "Note: in-case of unseen word in the testing dataset, replace it with a random seen one! (There's a better solution).\n",
    "\n",
    "At the end, run the last cell, to get the accuracy of your model."
   ]
  },
  {
   "cell_type": "code",
   "execution_count": null,
   "metadata": {},
   "outputs": [],
   "source": []
  },
  {
   "cell_type": "code",
   "execution_count": null,
   "metadata": {},
   "outputs": [],
   "source": [
    "%run tagger_eval.py corpus-small.out corpus-small.answer"
   ]
  },
  {
   "cell_type": "code",
   "execution_count": null,
   "metadata": {},
   "outputs": [],
   "source": []
  }
 ],
 "metadata": {
  "kernelspec": {
   "display_name": "Python 3",
   "language": "python",
   "name": "python3"
  },
  "language_info": {
   "codemirror_mode": {
    "name": "ipython",
    "version": 3
   },
   "file_extension": ".py",
   "mimetype": "text/x-python",
   "name": "python",
   "nbconvert_exporter": "python",
   "pygments_lexer": "ipython3",
   "version": "3.8.1"
  }
 },
 "nbformat": 4,
 "nbformat_minor": 1
}
